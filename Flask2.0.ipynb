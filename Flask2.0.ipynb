{
 "cells": [
  {
   "cell_type": "markdown",
   "id": "f8bc2461-2d7a-42f4-b104-f2ef6fd108b3",
   "metadata": {},
   "source": [
    "##### Q1. Explain GET and POST methods."
   ]
  },
  {
   "cell_type": "markdown",
   "id": "c0a3ed3d-c1dd-41af-be88-708b865375c7",
   "metadata": {},
   "source": [
    "The two most common HTTP methods are GET and POST.\n",
    "\n",
    "GET method is used to retrieve data from the server. It is an idempotent method, meaning that it can be called many times and it will return the same result each time. GET requests can be cached and bookmarked, and can be easily shared.\n",
    "\n",
    "POST method is used to submit an entity to the specified resource, often causing a change in state or side effects on the server. It is not idempotent, meaning that it can’t be called many times without different results. POST requests are not cached or bookmarked, and can’t be easily shared."
   ]
  },
  {
   "cell_type": "markdown",
   "id": "f24c829e-6312-4c4f-bd49-839d3b96ee3a",
   "metadata": {},
   "source": [
    "##### Q2. Why is request used in Flask?"
   ]
  },
  {
   "cell_type": "markdown",
   "id": "fb5d6d2c-84e1-466f-a243-46a88aca7f75",
   "metadata": {},
   "source": [
    "The request object contains all the data sent from the client to the server. This data can be recovered using the GET/POST methods. The request object is used to access data from the client, such as form data, query parameters, and cookies. It is an important part of handling user input in a Flask application."
   ]
  },
  {
   "cell_type": "markdown",
   "id": "c85403ce-30b8-4efd-9921-0c967ba68a4f",
   "metadata": {},
   "source": [
    "##### Q3. Why is redirect() used in Flask?"
   ]
  },
  {
   "cell_type": "markdown",
   "id": "7a8480aa-c89e-4919-9a34-dd07479999f7",
   "metadata": {},
   "source": [
    "The redirect() function in Flask is used to redirect the user to a different URL. This can be useful in a variety of situations, such as after a user has successfully submitted a form or logged in. The redirect() function takes the URL to redirect to as its argument and returns a response object that, when returned from a view function, will cause the user’s browser to navigate to the specified URL."
   ]
  },
  {
   "cell_type": "markdown",
   "id": "7162911a-9068-4c1e-85ee-4c577e67d5dd",
   "metadata": {},
   "source": [
    "##### Q4. What are templates in Flask? Why is the render_template() function used?"
   ]
  },
  {
   "cell_type": "markdown",
   "id": "8c8037fd-5f47-408e-87bb-93738562063d",
   "metadata": {},
   "source": [
    "Templates in Flask are used to generate dynamic HTML pages. They allow you to separate the presentation logic from the application logic, making it easier to maintain and update your code. Templates are written in a language called Jinja2, which allows you to include variables, control structures, and other dynamic elements in your HTML.\n",
    "The render_template() function is used to render a template and return the resulting HTML as a string."
   ]
  },
  {
   "cell_type": "markdown",
   "id": "b6bdcd6f-a31f-444b-9ed0-ffa7a0e4aea4",
   "metadata": {
    "tags": []
   },
   "source": [
    "##### Q5. Create a simple API. Use Postman to test it. Attach the screenshot of the output in the Jupyter Notebook."
   ]
  },
  {
   "cell_type": "code",
   "execution_count": null,
   "id": "2f79a757-9a69-4f55-b0ae-0173d841c20e",
   "metadata": {},
   "outputs": [],
   "source": [
    "from flask import Flask,request ,render_template , jsonify\n",
    "\n",
    "app = Flask(__name__)\n",
    "@app.route('/postman_action',methods=['POST'])\n",
    "def math_ops1():\n",
    "    if(request.method == 'POST'):\n",
    "        ops = request.json['operation']\n",
    "        num1 = int(request.json['num1'])\n",
    "        num2 = int(request.json['num2'])\n",
    "        if ops == 'add':\n",
    "            r = num1+num2\n",
    "            result = \"The sum of \" + str(num1) + 'and ' + str(num2) + \"is \" + str(r)\n",
    "        if ops == 'subtract':\n",
    "            r = num1-num2\n",
    "            result = \"The subtract of \" + str(num1) + 'and ' + str(num2) + \"is \" + str(r)\n",
    "        if ops == 'multiply':\n",
    "            r = num1*num2\n",
    "            result = \"The multiply of \" + str(num1) + 'and ' + str(num2) + \"is \" + str(r)\n",
    "        if ops == 'divide':\n",
    "            r = num1/num2\n",
    "            result = \"The divide of \" + str(num1) + 'and ' + str(num2) + \"is \" + str(r)\n",
    "            \n",
    "        return jsonify(result)\n",
    "\n",
    "if __name__==\"__main__\":\n",
    "    app.run(host=\"0.0.0.0\")\n"
   ]
  }
 ],
 "metadata": {
  "kernelspec": {
   "display_name": "Python 3 (ipykernel)",
   "language": "python",
   "name": "python3"
  },
  "language_info": {
   "codemirror_mode": {
    "name": "ipython",
    "version": 3
   },
   "file_extension": ".py",
   "mimetype": "text/x-python",
   "name": "python",
   "nbconvert_exporter": "python",
   "pygments_lexer": "ipython3",
   "version": "3.10.8"
  }
 },
 "nbformat": 4,
 "nbformat_minor": 5
}
